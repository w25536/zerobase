{
 "cells": [
  {
   "cell_type": "code",
   "execution_count": null,
   "metadata": {},
   "outputs": [],
   "source": [
    "!pip install bs4\n",
    "!pip install selenium"
   ]
  },
  {
   "cell_type": "code",
   "execution_count": 51,
   "metadata": {},
   "outputs": [],
   "source": [
    "from bs4 import BeautifulSoup\n",
    "from selenium import webdriver\n",
    "from selenium.webdriver.common.by import By\n",
    "\n",
    "import time"
   ]
  },
  {
   "cell_type": "code",
   "execution_count": 61,
   "metadata": {},
   "outputs": [
    {
     "name": "stdout",
     "output_type": "stream",
     "text": [
      "[<selenium.webdriver.remote.webelement.WebElement (session=\"2fe0f0c4db4268795541d6587aa44b0f\", element=\"713882064DA719BB7A900FE35C2BB495_element_14\")>]\n",
      "<selenium.webdriver.remote.webelement.WebElement (session=\"2fe0f0c4db4268795541d6587aa44b0f\", element=\"713882064DA719BB7A900FE35C2BB495_element_15\")>\n",
      "[]\n"
     ]
    },
    {
     "ename": "IndexError",
     "evalue": "list index out of range",
     "output_type": "error",
     "traceback": [
      "\u001b[0;31m---------------------------------------------------------------------------\u001b[0m",
      "\u001b[0;31mIndexError\u001b[0m                                Traceback (most recent call last)",
      "Cell \u001b[0;32mIn[61], line 21\u001b[0m\n\u001b[1;32m     19\u001b[0m gugun \u001b[39m=\u001b[39m driver\u001b[39m.\u001b[39mfind_element(By\u001b[39m.\u001b[39mCLASS_NAME,\u001b[39m'\u001b[39m\u001b[39mgugun_arae_box\u001b[39m\u001b[39m'\u001b[39m)\n\u001b[1;32m     20\u001b[0m li\u001b[39m=\u001b[39mgugun\u001b[39m.\u001b[39mfind_elements(By\u001b[39m.\u001b[39mTAG_NAME,\u001b[39m'\u001b[39m\u001b[39mli\u001b[39m\u001b[39m'\u001b[39m)\n\u001b[0;32m---> 21\u001b[0m li[\u001b[39m1\u001b[39;49m]\u001b[39m.\u001b[39mclick()\n\u001b[1;32m     22\u001b[0m time\u001b[39m.\u001b[39msleep(\u001b[39m5\u001b[39m)\n\u001b[1;32m     24\u001b[0m source\u001b[39m=\u001b[39mdriver\u001b[39m.\u001b[39mpage_source\n",
      "\u001b[0;31mIndexError\u001b[0m: list index out of range"
     ]
    }
   ],
   "source": [
    "driver = webdriver.Chrome()\n",
    "driver.get('https://www.starbucks.co.kr/store/store_map.do?disp=locale')\n",
    "time.sleep(5)\n",
    "\n",
    "loca = driver.find_elements(By.CLASS_NAME, 'loca_search')\n",
    "time.sleep(5)\n",
    "\n",
    "print(loca)\n",
    "\n",
    "sido = driver.find_element(By.CLASS_NAME,'sido_arae_box')\n",
    "li=sido.find_elements(By.TAG_NAME,'li') \n",
    "\n",
    "print(sido)\n",
    "print(li)\n",
    "\n",
    "\n",
    "time.sleep(5)\n",
    "\n",
    "gugun = driver.find_element(By.CLASS_NAME,'gugun_arae_box')\n",
    "li=gugun.find_elements(By.TAG_NAME,'li')\n",
    "li[1].click()\n",
    "time.sleep(5)\n",
    "\n",
    "source=driver.page_source\n",
    "\n",
    "bs=BeautifulSoup(source,'lxml')\n",
    "entire=bs.find('ul', class_='quickSearchResultBoxSidoGugun')\n",
    "starbucksGangnam_list=entire.find_all('li')\n",
    "\n",
    "print(\"매장 수 : \", len(starbucksGangnam_list))\n",
    "for stores in starbucksGangnam_list:\n",
    "    print(\"매장명 :\", stores.find('strong').text, \"매장 주소 :\" , stores.find('p').text)"
   ]
  },
  {
   "cell_type": "code",
   "execution_count": null,
   "metadata": {},
   "outputs": [],
   "source": []
  }
 ],
 "metadata": {
  "kernelspec": {
   "display_name": "Python 3",
   "language": "python",
   "name": "python3"
  },
  "language_info": {
   "codemirror_mode": {
    "name": "ipython",
    "version": 3
   },
   "file_extension": ".py",
   "mimetype": "text/x-python",
   "name": "python",
   "nbconvert_exporter": "python",
   "pygments_lexer": "ipython3",
   "version": "3.10.12"
  },
  "orig_nbformat": 4
 },
 "nbformat": 4,
 "nbformat_minor": 2
}
