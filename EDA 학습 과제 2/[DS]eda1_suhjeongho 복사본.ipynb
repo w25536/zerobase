{
 "cells": [
  {
   "cell_type": "code",
   "execution_count": 7,
   "metadata": {},
   "outputs": [],
   "source": [
    "import pandas as pd\n",
    "import numpy as np\n",
    "import time\n",
    "\n",
    "import selenium\n",
    "from selenium import webdriver\n",
    "from selenium.webdriver import ActionChains\n",
    "\n",
    "from selenium.webdriver.common.keys import Keys\n",
    "from selenium.webdriver.common.by import By\n",
    "\n",
    "from selenium.webdriver.support import expected_conditions as EC\n",
    "from selenium.webdriver.support.ui import Select\n",
    "from selenium.webdriver.support.ui import WebDriverWait\n"
   ]
  },
  {
   "cell_type": "code",
   "execution_count": 17,
   "metadata": {},
   "outputs": [],
   "source": [
    "url = 'https://www.starbucks.co.kr/store/store_map.do'\n",
    "driver =webdriver.Chrome()\n",
    "driver.get(url)"
   ]
  },
  {
   "cell_type": "code",
   "execution_count": 15,
   "metadata": {},
   "outputs": [
    {
     "ename": "NoSuchElementException",
     "evalue": "Message: no such element: Unable to locate element: {\"method\":\"xpath\",\"selector\":\"//*[@id=\"container\"]/div/form/fieldset/div/section/article[1]/article/article[2]/div[1]/div[2]/ul/li[1]/a\"}\n  (Session info: chrome=116.0.5845.179); For documentation on this error, please visit: https://www.selenium.dev/documentation/webdriver/troubleshooting/errors#no-such-element-exception\nStacktrace:\n0   chromedriver                        0x000000010094265c chromedriver + 4318812\n1   chromedriver                        0x000000010093ad00 chromedriver + 4287744\n2   chromedriver                        0x000000010056c7ec chromedriver + 296940\n3   chromedriver                        0x00000001005aa048 chromedriver + 548936\n4   chromedriver                        0x00000001005e2d28 chromedriver + 781608\n5   chromedriver                        0x000000010059e178 chromedriver + 500088\n6   chromedriver                        0x000000010059efc0 chromedriver + 503744\n7   chromedriver                        0x0000000100902c40 chromedriver + 4058176\n8   chromedriver                        0x0000000100907160 chromedriver + 4075872\n9   chromedriver                        0x00000001008cae68 chromedriver + 3829352\n10  chromedriver                        0x0000000100907c4c chromedriver + 4078668\n11  chromedriver                        0x00000001008dff08 chromedriver + 3915528\n12  chromedriver                        0x0000000100924140 chromedriver + 4194624\n13  chromedriver                        0x00000001009242c4 chromedriver + 4195012\n14  chromedriver                        0x00000001009344d0 chromedriver + 4261072\n15  libsystem_pthread.dylib             0x00000001aff7e06c _pthread_start + 148\n16  libsystem_pthread.dylib             0x00000001aff78e2c thread_start + 8\n",
     "output_type": "error",
     "traceback": [
      "\u001b[0;31m---------------------------------------------------------------------------\u001b[0m",
      "\u001b[0;31mNoSuchElementException\u001b[0m                    Traceback (most recent call last)",
      "Cell \u001b[0;32mIn[15], line 6\u001b[0m\n\u001b[1;32m      3\u001b[0m some_tag\u001b[39m.\u001b[39mclick()\n\u001b[1;32m      5\u001b[0m xpath_gu \u001b[39m=\u001b[39m \u001b[39m'''\u001b[39m\u001b[39m//*[@id=\u001b[39m\u001b[39m\"\u001b[39m\u001b[39mcontainer\u001b[39m\u001b[39m\"\u001b[39m\u001b[39m]/div/form/fieldset/div/section/article[1]/article/article[2]/div[1]/div[2]/ul/li[1]/a\u001b[39m\u001b[39m'''\u001b[39m\n\u001b[0;32m----> 6\u001b[0m some_tag \u001b[39m=\u001b[39m driver\u001b[39m.\u001b[39;49mfind_element(By\u001b[39m.\u001b[39;49mXPATH, xpath_gu)\n\u001b[1;32m      7\u001b[0m some_tag\u001b[39m.\u001b[39mclick()\n\u001b[1;32m      9\u001b[0m xpath_gu \u001b[39m=\u001b[39m \u001b[39m'\u001b[39m\u001b[39m//*[@id=\u001b[39m\u001b[39m\"\u001b[39m\u001b[39mmCSB_2_container\u001b[39m\u001b[39m\"\u001b[39m\u001b[39m]/ul/li[1]/a\u001b[39m\u001b[39m'\u001b[39m\n",
      "File \u001b[0;32m/Library/Frameworks/Python.framework/Versions/3.11/lib/python3.11/site-packages/selenium/webdriver/remote/webdriver.py:738\u001b[0m, in \u001b[0;36mWebDriver.find_element\u001b[0;34m(self, by, value)\u001b[0m\n\u001b[1;32m    735\u001b[0m     by \u001b[39m=\u001b[39m By\u001b[39m.\u001b[39mCSS_SELECTOR\n\u001b[1;32m    736\u001b[0m     value \u001b[39m=\u001b[39m \u001b[39mf\u001b[39m\u001b[39m'\u001b[39m\u001b[39m[name=\u001b[39m\u001b[39m\"\u001b[39m\u001b[39m{\u001b[39;00mvalue\u001b[39m}\u001b[39;00m\u001b[39m\"\u001b[39m\u001b[39m]\u001b[39m\u001b[39m'\u001b[39m\n\u001b[0;32m--> 738\u001b[0m \u001b[39mreturn\u001b[39;00m \u001b[39mself\u001b[39;49m\u001b[39m.\u001b[39;49mexecute(Command\u001b[39m.\u001b[39;49mFIND_ELEMENT, {\u001b[39m\"\u001b[39;49m\u001b[39musing\u001b[39;49m\u001b[39m\"\u001b[39;49m: by, \u001b[39m\"\u001b[39;49m\u001b[39mvalue\u001b[39;49m\u001b[39m\"\u001b[39;49m: value})[\u001b[39m\"\u001b[39m\u001b[39mvalue\u001b[39m\u001b[39m\"\u001b[39m]\n",
      "File \u001b[0;32m/Library/Frameworks/Python.framework/Versions/3.11/lib/python3.11/site-packages/selenium/webdriver/remote/webdriver.py:344\u001b[0m, in \u001b[0;36mWebDriver.execute\u001b[0;34m(self, driver_command, params)\u001b[0m\n\u001b[1;32m    342\u001b[0m response \u001b[39m=\u001b[39m \u001b[39mself\u001b[39m\u001b[39m.\u001b[39mcommand_executor\u001b[39m.\u001b[39mexecute(driver_command, params)\n\u001b[1;32m    343\u001b[0m \u001b[39mif\u001b[39;00m response:\n\u001b[0;32m--> 344\u001b[0m     \u001b[39mself\u001b[39;49m\u001b[39m.\u001b[39;49merror_handler\u001b[39m.\u001b[39;49mcheck_response(response)\n\u001b[1;32m    345\u001b[0m     response[\u001b[39m\"\u001b[39m\u001b[39mvalue\u001b[39m\u001b[39m\"\u001b[39m] \u001b[39m=\u001b[39m \u001b[39mself\u001b[39m\u001b[39m.\u001b[39m_unwrap_value(response\u001b[39m.\u001b[39mget(\u001b[39m\"\u001b[39m\u001b[39mvalue\u001b[39m\u001b[39m\"\u001b[39m, \u001b[39mNone\u001b[39;00m))\n\u001b[1;32m    346\u001b[0m     \u001b[39mreturn\u001b[39;00m response\n",
      "File \u001b[0;32m/Library/Frameworks/Python.framework/Versions/3.11/lib/python3.11/site-packages/selenium/webdriver/remote/errorhandler.py:229\u001b[0m, in \u001b[0;36mErrorHandler.check_response\u001b[0;34m(self, response)\u001b[0m\n\u001b[1;32m    227\u001b[0m         alert_text \u001b[39m=\u001b[39m value[\u001b[39m\"\u001b[39m\u001b[39malert\u001b[39m\u001b[39m\"\u001b[39m]\u001b[39m.\u001b[39mget(\u001b[39m\"\u001b[39m\u001b[39mtext\u001b[39m\u001b[39m\"\u001b[39m)\n\u001b[1;32m    228\u001b[0m     \u001b[39mraise\u001b[39;00m exception_class(message, screen, stacktrace, alert_text)  \u001b[39m# type: ignore[call-arg]  # mypy is not smart enough here\u001b[39;00m\n\u001b[0;32m--> 229\u001b[0m \u001b[39mraise\u001b[39;00m exception_class(message, screen, stacktrace)\n",
      "\u001b[0;31mNoSuchElementException\u001b[0m: Message: no such element: Unable to locate element: {\"method\":\"xpath\",\"selector\":\"//*[@id=\"container\"]/div/form/fieldset/div/section/article[1]/article/article[2]/div[1]/div[2]/ul/li[1]/a\"}\n  (Session info: chrome=116.0.5845.179); For documentation on this error, please visit: https://www.selenium.dev/documentation/webdriver/troubleshooting/errors#no-such-element-exception\nStacktrace:\n0   chromedriver                        0x000000010094265c chromedriver + 4318812\n1   chromedriver                        0x000000010093ad00 chromedriver + 4287744\n2   chromedriver                        0x000000010056c7ec chromedriver + 296940\n3   chromedriver                        0x00000001005aa048 chromedriver + 548936\n4   chromedriver                        0x00000001005e2d28 chromedriver + 781608\n5   chromedriver                        0x000000010059e178 chromedriver + 500088\n6   chromedriver                        0x000000010059efc0 chromedriver + 503744\n7   chromedriver                        0x0000000100902c40 chromedriver + 4058176\n8   chromedriver                        0x0000000100907160 chromedriver + 4075872\n9   chromedriver                        0x00000001008cae68 chromedriver + 3829352\n10  chromedriver                        0x0000000100907c4c chromedriver + 4078668\n11  chromedriver                        0x00000001008dff08 chromedriver + 3915528\n12  chromedriver                        0x0000000100924140 chromedriver + 4194624\n13  chromedriver                        0x00000001009242c4 chromedriver + 4195012\n14  chromedriver                        0x00000001009344d0 chromedriver + 4261072\n15  libsystem_pthread.dylib             0x00000001aff7e06c _pthread_start + 148\n16  libsystem_pthread.dylib             0x00000001aff78e2c thread_start + 8\n"
     ]
    }
   ],
   "source": [
    "xpath_si = ''\n",
    "some_tag= driver.find_element(By.XPATH, xpath_si)\n",
    "some_tag.click()\n",
    "\n",
    "xpath_gu = '''//*[@id=\"container\"]/div/form/fieldset/div/section/article[1]/article/article[2]/div[1]/div[2]/ul/li[1]/a'''\n",
    "some_tag = driver.find_element(By.XPATH, xpath_gu)\n",
    "some_tag.click()\n",
    "\n",
    "xpath_gu = '//*[@id=\"mCSB_2_container\"]/ul/li[1]/a'\n",
    "some_tag = driver.find_element(By.XPATH, xpath_gu)\n",
    "some_tag.click()\n",
    "\n"
   ]
  },
  {
   "cell_type": "code",
   "execution_count": null,
   "metadata": {},
   "outputs": [],
   "source": []
  }
 ],
 "metadata": {
  "kernelspec": {
   "display_name": "Python 3",
   "language": "python",
   "name": "python3"
  },
  "language_info": {
   "codemirror_mode": {
    "name": "ipython",
    "version": 3
   },
   "file_extension": ".py",
   "mimetype": "text/x-python",
   "name": "python",
   "nbconvert_exporter": "python",
   "pygments_lexer": "ipython3",
   "version": "3.11.3"
  },
  "orig_nbformat": 4
 },
 "nbformat": 4,
 "nbformat_minor": 2
}
